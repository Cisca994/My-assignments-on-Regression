{
 "cells": [
  {
   "cell_type": "code",
   "execution_count": 1,
   "id": "d9b74e1a",
   "metadata": {},
   "outputs": [],
   "source": [
    "import numpy as np\n",
    "import pandas as pd\n",
    "import matplotlib.pyplot as plt"
   ]
  },
  {
   "cell_type": "code",
   "execution_count": 3,
   "id": "b0841896",
   "metadata": {},
   "outputs": [],
   "source": [
    "student_data = pd.read_csv(\"Students Study Data.csv\")\n",
    "\n",
    "data = Student_data.copy()"
   ]
  },
  {
   "cell_type": "code",
   "execution_count": 4,
   "id": "76abcc30",
   "metadata": {},
   "outputs": [
    {
     "data": {
      "text/html": [
       "<div>\n",
       "<style scoped>\n",
       "    .dataframe tbody tr th:only-of-type {\n",
       "        vertical-align: middle;\n",
       "    }\n",
       "\n",
       "    .dataframe tbody tr th {\n",
       "        vertical-align: top;\n",
       "    }\n",
       "\n",
       "    .dataframe thead th {\n",
       "        text-align: right;\n",
       "    }\n",
       "</style>\n",
       "<table border=\"1\" class=\"dataframe\">\n",
       "  <thead>\n",
       "    <tr style=\"text-align: right;\">\n",
       "      <th></th>\n",
       "      <th>Unnamed: 0</th>\n",
       "      <th>Student</th>\n",
       "      <th>Study Hours</th>\n",
       "      <th>Score</th>\n",
       "    </tr>\n",
       "  </thead>\n",
       "  <tbody>\n",
       "    <tr>\n",
       "      <th>0</th>\n",
       "      <td>0</td>\n",
       "      <td>Alice</td>\n",
       "      <td>7</td>\n",
       "      <td>27</td>\n",
       "    </tr>\n",
       "    <tr>\n",
       "      <th>1</th>\n",
       "      <td>1</td>\n",
       "      <td>Isaac</td>\n",
       "      <td>20</td>\n",
       "      <td>85</td>\n",
       "    </tr>\n",
       "    <tr>\n",
       "      <th>2</th>\n",
       "      <td>2</td>\n",
       "      <td>Charlie</td>\n",
       "      <td>15</td>\n",
       "      <td>64</td>\n",
       "    </tr>\n",
       "    <tr>\n",
       "      <th>3</th>\n",
       "      <td>3</td>\n",
       "      <td>David</td>\n",
       "      <td>11</td>\n",
       "      <td>48</td>\n",
       "    </tr>\n",
       "    <tr>\n",
       "      <th>4</th>\n",
       "      <td>4</td>\n",
       "      <td>Samuel</td>\n",
       "      <td>8</td>\n",
       "      <td>40</td>\n",
       "    </tr>\n",
       "    <tr>\n",
       "      <th>5</th>\n",
       "      <td>5</td>\n",
       "      <td>Mendy</td>\n",
       "      <td>7</td>\n",
       "      <td>29</td>\n",
       "    </tr>\n",
       "    <tr>\n",
       "      <th>6</th>\n",
       "      <td>6</td>\n",
       "      <td>Grace</td>\n",
       "      <td>19</td>\n",
       "      <td>85</td>\n",
       "    </tr>\n",
       "    <tr>\n",
       "      <th>7</th>\n",
       "      <td>7</td>\n",
       "      <td>Hannah</td>\n",
       "      <td>11</td>\n",
       "      <td>36</td>\n",
       "    </tr>\n",
       "    <tr>\n",
       "      <th>8</th>\n",
       "      <td>8</td>\n",
       "      <td>Ivy</td>\n",
       "      <td>11</td>\n",
       "      <td>38</td>\n",
       "    </tr>\n",
       "    <tr>\n",
       "      <th>9</th>\n",
       "      <td>9</td>\n",
       "      <td>Jack</td>\n",
       "      <td>4</td>\n",
       "      <td>24</td>\n",
       "    </tr>\n",
       "    <tr>\n",
       "      <th>10</th>\n",
       "      <td>10</td>\n",
       "      <td>Uche</td>\n",
       "      <td>8</td>\n",
       "      <td>28</td>\n",
       "    </tr>\n",
       "    <tr>\n",
       "      <th>11</th>\n",
       "      <td>11</td>\n",
       "      <td>Bob</td>\n",
       "      <td>3</td>\n",
       "      <td>22</td>\n",
       "    </tr>\n",
       "    <tr>\n",
       "      <th>12</th>\n",
       "      <td>12</td>\n",
       "      <td>Ada</td>\n",
       "      <td>2</td>\n",
       "      <td>6</td>\n",
       "    </tr>\n",
       "    <tr>\n",
       "      <th>13</th>\n",
       "      <td>13</td>\n",
       "      <td>Eze</td>\n",
       "      <td>12</td>\n",
       "      <td>44</td>\n",
       "    </tr>\n",
       "    <tr>\n",
       "      <th>14</th>\n",
       "      <td>14</td>\n",
       "      <td>Eva</td>\n",
       "      <td>6</td>\n",
       "      <td>31</td>\n",
       "    </tr>\n",
       "    <tr>\n",
       "      <th>15</th>\n",
       "      <td>15</td>\n",
       "      <td>Frank</td>\n",
       "      <td>2</td>\n",
       "      <td>1</td>\n",
       "    </tr>\n",
       "    <tr>\n",
       "      <th>16</th>\n",
       "      <td>16</td>\n",
       "      <td>Dan</td>\n",
       "      <td>1</td>\n",
       "      <td>7</td>\n",
       "    </tr>\n",
       "    <tr>\n",
       "      <th>17</th>\n",
       "      <td>17</td>\n",
       "      <td>Chris</td>\n",
       "      <td>12</td>\n",
       "      <td>55</td>\n",
       "    </tr>\n",
       "    <tr>\n",
       "      <th>18</th>\n",
       "      <td>18</td>\n",
       "      <td>Okon</td>\n",
       "      <td>12</td>\n",
       "      <td>46</td>\n",
       "    </tr>\n",
       "    <tr>\n",
       "      <th>19</th>\n",
       "      <td>19</td>\n",
       "      <td>Jenny</td>\n",
       "      <td>17</td>\n",
       "      <td>78</td>\n",
       "    </tr>\n",
       "  </tbody>\n",
       "</table>\n",
       "</div>"
      ],
      "text/plain": [
       "    Unnamed: 0  Student  Study Hours  Score\n",
       "0            0    Alice            7     27\n",
       "1            1    Isaac           20     85\n",
       "2            2  Charlie           15     64\n",
       "3            3    David           11     48\n",
       "4            4   Samuel            8     40\n",
       "5            5    Mendy            7     29\n",
       "6            6    Grace           19     85\n",
       "7            7   Hannah           11     36\n",
       "8            8      Ivy           11     38\n",
       "9            9     Jack            4     24\n",
       "10          10     Uche            8     28\n",
       "11          11      Bob            3     22\n",
       "12          12      Ada            2      6\n",
       "13          13      Eze           12     44\n",
       "14          14      Eva            6     31\n",
       "15          15    Frank            2      1\n",
       "16          16      Dan            1      7\n",
       "17          17    Chris           12     55\n",
       "18          18     Okon           12     46\n",
       "19          19    Jenny           17     78"
      ]
     },
     "execution_count": 4,
     "metadata": {},
     "output_type": "execute_result"
    }
   ],
   "source": [
    "data"
   ]
  },
  {
   "cell_type": "code",
   "execution_count": 37,
   "id": "5671f991",
   "metadata": {},
   "outputs": [],
   "source": [
    "# Separating the dependent and independent variables\n",
    "\n",
    "\n",
    "# Linear Regression\n",
    "\n",
    "# y = b0 + b1x1 + e\n",
    "\n",
    "# x = independent variables\n",
    "# y = dependent variable\n",
    "\n",
    "# e = error or epsilon\n",
    "# b0 = constant\n",
    "# b1 = Coefficent\n",
    "\n",
    "x1 = data[\"Study Hours\"]\n",
    "y = data[\"Score\"]"
   ]
  },
  {
   "cell_type": "code",
   "execution_count": 6,
   "id": "75076d7a",
   "metadata": {},
   "outputs": [],
   "source": [
    "import statsmodels.api as sm"
   ]
  },
  {
   "cell_type": "code",
   "execution_count": 7,
   "id": "291e265a",
   "metadata": {},
   "outputs": [
    {
     "data": {
      "image/png": "[encoded data removed]",
      "text/plain": [
       "<Figure size 640x480 with 1 Axes>"
      ]
     },
     "metadata": {},
     "output_type": "display_data"
    }
   ],
   "source": [
    "plt.scatter(x1, y)\n",
    "plt.xlabel(\"Study Hours\")\n",
    "plt.ylabel(\"Score\")\n",
    "plt.title(\"Student Scores\")\n",
    "plt.show()"
   ]
  },
  {
   "cell_type": "code",
   "execution_count": 8,
   "id": "c12874ba",
   "metadata": {},
   "outputs": [],
   "source": [
    "x = sm.add_constant(x1)\n",
    "result = sm.OLS(y, x).fit()"
   ]
  },
  {
   "cell_type": "code",
   "execution_count": 9,
   "id": "519e880a",
   "metadata": {},
   "outputs": [
    {
     "data": {
      "text/html": [
       "<table class=\"simpletable\">\n",
       "<caption>OLS Regression Results</caption>\n",
       "<tr>\n",
       "  <th>Dep. Variable:</th>          <td>Score</td>      <th>  R-squared:         </th> <td>   0.943</td>\n",
       "</tr>\n",
       "<tr>\n",
       "  <th>Model:</th>                   <td>OLS</td>       <th>  Adj. R-squared:    </th> <td>   0.939</td>\n",
       "</tr>\n",
       "<tr>\n",
       "  <th>Method:</th>             <td>Least Squares</td>  <th>  F-statistic:       </th> <td>   295.7</td>\n",
       "</tr>\n",
       "<tr>\n",
       "  <th>Date:</th>             <td>Tue, 04 Jun 2024</td> <th>  Prob (F-statistic):</th> <td>1.29e-12</td>\n",
       "</tr>\n",
       "<tr>\n",
       "  <th>Time:</th>                 <td>15:03:24</td>     <th>  Log-Likelihood:    </th> <td> -63.159</td>\n",
       "</tr>\n",
       "<tr>\n",
       "  <th>No. Observations:</th>      <td>    20</td>      <th>  AIC:               </th> <td>   130.3</td>\n",
       "</tr>\n",
       "<tr>\n",
       "  <th>Df Residuals:</th>          <td>    18</td>      <th>  BIC:               </th> <td>   132.3</td>\n",
       "</tr>\n",
       "<tr>\n",
       "  <th>Df Model:</th>              <td>     1</td>      <th>                     </th>     <td> </td>   \n",
       "</tr>\n",
       "<tr>\n",
       "  <th>Covariance Type:</th>      <td>nonrobust</td>    <th>                     </th>     <td> </td>   \n",
       "</tr>\n",
       "</table>\n",
       "<table class=\"simpletable\">\n",
       "<tr>\n",
       "       <td></td>          <th>coef</th>     <th>std err</th>      <th>t</th>      <th>P>|t|</th>  <th>[0.025</th>    <th>0.975]</th>  \n",
       "</tr>\n",
       "<tr>\n",
       "  <th>const</th>       <td>    0.0718</td> <td>    2.667</td> <td>    0.027</td> <td> 0.979</td> <td>   -5.531</td> <td>    5.674</td>\n",
       "</tr>\n",
       "<tr>\n",
       "  <th>Study Hours</th> <td>    4.2158</td> <td>    0.245</td> <td>   17.195</td> <td> 0.000</td> <td>    3.701</td> <td>    4.731</td>\n",
       "</tr>\n",
       "</table>\n",
       "<table class=\"simpletable\">\n",
       "<tr>\n",
       "  <th>Omnibus:</th>       <td> 2.616</td> <th>  Durbin-Watson:     </th> <td>   2.725</td>\n",
       "</tr>\n",
       "<tr>\n",
       "  <th>Prob(Omnibus):</th> <td> 0.270</td> <th>  Jarque-Bera (JB):  </th> <td>   1.254</td>\n",
       "</tr>\n",
       "<tr>\n",
       "  <th>Skew:</th>          <td>-0.205</td> <th>  Prob(JB):          </th> <td>   0.534</td>\n",
       "</tr>\n",
       "<tr>\n",
       "  <th>Kurtosis:</th>      <td> 1.844</td> <th>  Cond. No.          </th> <td>    21.8</td>\n",
       "</tr>\n",
       "</table><br/><br/>Notes:<br/>[1] Standard Errors assume that the covariance matrix of the errors is correctly specified."
      ],
      "text/latex": [
       "\\begin{center}\n",
       "\\begin{tabular}{lclc}\n",
       "\\toprule\n",
       "\\textbf{Dep. Variable:}    &      Score       & \\textbf{  R-squared:         } &     0.943   \\\\\n",
       "\\textbf{Model:}            &       OLS        & \\textbf{  Adj. R-squared:    } &     0.939   \\\\\n",
       "\\textbf{Method:}           &  Least Squares   & \\textbf{  F-statistic:       } &     295.7   \\\\\n",
       "\\textbf{Date:}             & Tue, 04 Jun 2024 & \\textbf{  Prob (F-statistic):} &  1.29e-12   \\\\\n",
       "\\textbf{Time:}             &     15:03:24     & \\textbf{  Log-Likelihood:    } &   -63.159   \\\\\n",
       "\\textbf{No. Observations:} &          20      & \\textbf{  AIC:               } &     130.3   \\\\\n",
       "\\textbf{Df Residuals:}     &          18      & \\textbf{  BIC:               } &     132.3   \\\\\n",
       "\\textbf{Df Model:}         &           1      & \\textbf{                     } &             \\\\\n",
       "\\textbf{Covariance Type:}  &    nonrobust     & \\textbf{                     } &             \\\\\n",
       "\\bottomrule\n",
       "\\end{tabular}\n",
       "\\begin{tabular}{lcccccc}\n",
       "                     & \\textbf{coef} & \\textbf{std err} & \\textbf{t} & \\textbf{P$> |$t$|$} & \\textbf{[0.025} & \\textbf{0.975]}  \\\\\n",
       "\\midrule\n",
       "\\textbf{const}       &       0.0718  &        2.667     &     0.027  &         0.979        &       -5.531    &        5.674     \\\\\n",
       "\\textbf{Study Hours} &       4.2158  &        0.245     &    17.195  &         0.000        &        3.701    &        4.731     \\\\\n",
       "\\bottomrule\n",
       "\\end{tabular}\n",
       "\\begin{tabular}{lclc}\n",
       "\\textbf{Omnibus:}       &  2.616 & \\textbf{  Durbin-Watson:     } &    2.725  \\\\\n",
       "\\textbf{Prob(Omnibus):} &  0.270 & \\textbf{  Jarque-Bera (JB):  } &    1.254  \\\\\n",
       "\\textbf{Skew:}          & -0.205 & \\textbf{  Prob(JB):          } &    0.534  \\\\\n",
       "\\textbf{Kurtosis:}      &  1.844 & \\textbf{  Cond. No.          } &     21.8  \\\\\n",
       "\\bottomrule\n",
       "\\end{tabular}\n",
       "%\\caption{OLS Regression Results}\n",
       "\\end{center}\n",
       "\n",
       "Notes: \\newline\n",
       " [1] Standard Errors assume that the covariance matrix of the errors is correctly specified."
      ],
      "text/plain": [
       "<class 'statsmodels.iolib.summary.Summary'>\n",
       "\"\"\"\n",
       "                            OLS Regression Results                            \n",
       "==============================================================================\n",
       "Dep. Variable:                  Score   R-squared:                       0.943\n",
       "Model:                            OLS   Adj. R-squared:                  0.939\n",
       "Method:                 Least Squares   F-statistic:                     295.7\n",
       "Date:                Tue, 04 Jun 2024   Prob (F-statistic):           1.29e-12\n",
       "Time:                        15:03:24   Log-Likelihood:                -63.159\n",
       "No. Observations:                  20   AIC:                             130.3\n",
       "Df Residuals:                      18   BIC:                             132.3\n",
       "Df Model:                           1                                         \n",
       "Covariance Type:            nonrobust                                         \n",
       "===============================================================================\n",
       "                  coef    std err          t      P>|t|      [0.025      0.975]\n",
       "-------------------------------------------------------------------------------\n",
       "const           0.0718      2.667      0.027      0.979      -5.531       5.674\n",
       "Study Hours     4.2158      0.245     17.195      0.000       3.701       4.731\n",
       "==============================================================================\n",
       "Omnibus:                        2.616   Durbin-Watson:                   2.725\n",
       "Prob(Omnibus):                  0.270   Jarque-Bera (JB):                1.254\n",
       "Skew:                          -0.205   Prob(JB):                        0.534\n",
       "Kurtosis:                       1.844   Cond. No.                         21.8\n",
       "==============================================================================\n",
       "\n",
       "Notes:\n",
       "[1] Standard Errors assume that the covariance matrix of the errors is correctly specified.\n",
       "\"\"\""
      ]
     },
     "execution_count": 9,
     "metadata": {},
     "output_type": "execute_result"
    }
   ],
   "source": [
    "result.summary()"
   ]
  },
  {
   "cell_type": "code",
   "execution_count": null,
   "id": "dca10923",
   "metadata": {},
   "outputs": [],
   "source": [
    "# Linear Regression\n",
    "\n",
    "# y = b0 + b1x1 + e\n",
    "\n",
    "# x = independent variables\n",
    "# y = dependent variable\n",
    "\n",
    "# e = error or epsilon\n",
    "# b0 = constant\n",
    "# b1 = Coefficent\n"
   ]
  },
  {
   "cell_type": "code",
   "execution_count": 10,
   "id": "10fe3261",
   "metadata": {},
   "outputs": [
    {
     "data": {
      "text/plain": [
       "29.582399999999996"
      ]
     },
     "execution_count": 10,
     "metadata": {},
     "output_type": "execute_result"
    }
   ],
   "source": [
    "# 0. Alice\n",
    "y = 0.0718 + 4.2158 * 7\n",
    "y"
   ]
  },
  {
   "cell_type": "code",
   "execution_count": 11,
   "id": "51d964ce",
   "metadata": {},
   "outputs": [
    {
     "data": {
      "text/plain": [
       "array([29.58216433, 84.38710755, 63.30828323, 46.44522378, 33.79792919,\n",
       "       29.58216433, 80.17134269, 46.44522378, 46.44522378, 16.93486974,\n",
       "       33.79792919, 12.71910488,  8.50334001, 50.66098864, 25.36639947,\n",
       "        8.50334001,  4.28757515, 50.66098864, 50.66098864, 71.73981296])"
      ]
     },
     "execution_count": 11,
     "metadata": {},
     "output_type": "execute_result"
    }
   ],
   "source": [
    "result.predict()"
   ]
  },
  {
   "cell_type": "code",
   "execution_count": 12,
   "id": "640eeada",
   "metadata": {},
   "outputs": [
    {
     "data": {
      "text/plain": [
       "84.3878"
      ]
     },
     "execution_count": 12,
     "metadata": {},
     "output_type": "execute_result"
    }
   ],
   "source": [
    "# 1. Isaac\n",
    "y = 0.0718 + 4.2158 * 20\n",
    "y"
   ]
  },
  {
   "cell_type": "code",
   "execution_count": 13,
   "id": "6915623d",
   "metadata": {},
   "outputs": [
    {
     "data": {
      "text/plain": [
       "63.3088"
      ]
     },
     "execution_count": 13,
     "metadata": {},
     "output_type": "execute_result"
    }
   ],
   "source": [
    "# 2. Charlie\n",
    "y = 0.0718 + 4.2158 * 15\n",
    "y"
   ]
  },
  {
   "cell_type": "code",
   "execution_count": 14,
   "id": "d8c3602c",
   "metadata": {},
   "outputs": [
    {
     "data": {
      "text/plain": [
       "46.4456"
      ]
     },
     "execution_count": 14,
     "metadata": {},
     "output_type": "execute_result"
    }
   ],
   "source": [
    "# 3. David\n",
    "y = 0.0718 + 4.2158 * 11\n",
    "y"
   ]
  },
  {
   "cell_type": "code",
   "execution_count": 15,
   "id": "89e9ff33",
   "metadata": {},
   "outputs": [
    {
     "data": {
      "text/plain": [
       "33.7982"
      ]
     },
     "execution_count": 15,
     "metadata": {},
     "output_type": "execute_result"
    }
   ],
   "source": [
    "# 4. Samuel\n",
    "y = 0.0718 + 4.2158 * 8\n",
    "y"
   ]
  },
  {
   "cell_type": "code",
   "execution_count": 16,
   "id": "bbee7055",
   "metadata": {},
   "outputs": [
    {
     "data": {
      "text/plain": [
       "29.582399999999996"
      ]
     },
     "execution_count": 16,
     "metadata": {},
     "output_type": "execute_result"
    }
   ],
   "source": [
    "# 5. Mendy\n",
    "y = 0.0718 + 4.2158 * 7\n",
    "y"
   ]
  },
  {
   "cell_type": "code",
   "execution_count": 17,
   "id": "cb3005c9",
   "metadata": {},
   "outputs": [
    {
     "data": {
      "text/plain": [
       "80.172"
      ]
     },
     "execution_count": 17,
     "metadata": {},
     "output_type": "execute_result"
    }
   ],
   "source": [
    "# 6. Grace\n",
    "y = 0.0718 + 4.2158 * 19\n",
    "y"
   ]
  },
  {
   "cell_type": "code",
   "execution_count": 18,
   "id": "422a1e58",
   "metadata": {},
   "outputs": [
    {
     "data": {
      "text/plain": [
       "46.4456"
      ]
     },
     "execution_count": 18,
     "metadata": {},
     "output_type": "execute_result"
    }
   ],
   "source": [
    "# 7. Hannah\n",
    "y = 0.0718 + 4.2158 * 11\n",
    "y"
   ]
  },
  {
   "cell_type": "code",
   "execution_count": 19,
   "id": "cd82f5a7",
   "metadata": {},
   "outputs": [
    {
     "data": {
      "text/plain": [
       "46.4456"
      ]
     },
     "execution_count": 19,
     "metadata": {},
     "output_type": "execute_result"
    }
   ],
   "source": [
    "# 8. Ivy\n",
    "y = 0.0718 + 4.2158 * 11\n",
    "y"
   ]
  },
  {
   "cell_type": "code",
   "execution_count": 20,
   "id": "6126973c",
   "metadata": {},
   "outputs": [
    {
     "data": {
      "text/plain": [
       "16.935"
      ]
     },
     "execution_count": 20,
     "metadata": {},
     "output_type": "execute_result"
    }
   ],
   "source": [
    "# 9. Jack\n",
    "y = 0.0718 + 4.2158 * 4\n",
    "y"
   ]
  },
  {
   "cell_type": "code",
   "execution_count": 21,
   "id": "e09b90b8",
   "metadata": {
    "scrolled": true
   },
   "outputs": [
    {
     "data": {
      "text/plain": [
       "33.7982"
      ]
     },
     "execution_count": 21,
     "metadata": {},
     "output_type": "execute_result"
    }
   ],
   "source": [
    "# 10. Uche\n",
    "y = 0.0718 + 4.2158 * 8\n",
    "y"
   ]
  },
  {
   "cell_type": "code",
   "execution_count": 22,
   "id": "0f5eeaae",
   "metadata": {},
   "outputs": [
    {
     "data": {
      "text/plain": [
       "12.719199999999999"
      ]
     },
     "execution_count": 22,
     "metadata": {},
     "output_type": "execute_result"
    }
   ],
   "source": [
    "# 11. Bob\n",
    "y = 0.0718 + 4.2158 * 3\n",
    "y"
   ]
  },
  {
   "cell_type": "code",
   "execution_count": 23,
   "id": "cd8d4e9d",
   "metadata": {},
   "outputs": [
    {
     "data": {
      "text/plain": [
       "8.5034"
      ]
     },
     "execution_count": 23,
     "metadata": {},
     "output_type": "execute_result"
    }
   ],
   "source": [
    "# 12. Ada\n",
    "y = 0.0718 + 4.2158 * 2\n",
    "y"
   ]
  },
  {
   "cell_type": "code",
   "execution_count": 24,
   "id": "e5b12298",
   "metadata": {},
   "outputs": [
    {
     "data": {
      "text/plain": [
       "50.6614"
      ]
     },
     "execution_count": 24,
     "metadata": {},
     "output_type": "execute_result"
    }
   ],
   "source": [
    "# 13. Eze\n",
    "y = 0.0718 + 4.2158 * 12\n",
    "y"
   ]
  },
  {
   "cell_type": "code",
   "execution_count": 25,
   "id": "cc28ea9e",
   "metadata": {},
   "outputs": [
    {
     "data": {
      "text/plain": [
       "25.3666"
      ]
     },
     "execution_count": 25,
     "metadata": {},
     "output_type": "execute_result"
    }
   ],
   "source": [
    "# 14. Eva\n",
    "y = 0.0718 + 4.2158 * 6\n",
    "y"
   ]
  },
  {
   "cell_type": "code",
   "execution_count": 26,
   "id": "58360279",
   "metadata": {},
   "outputs": [
    {
     "data": {
      "text/plain": [
       "8.5034"
      ]
     },
     "execution_count": 26,
     "metadata": {},
     "output_type": "execute_result"
    }
   ],
   "source": [
    "# 15. Frank\n",
    "y = 0.0718 + 4.2158 * 2\n",
    "y"
   ]
  },
  {
   "cell_type": "code",
   "execution_count": 27,
   "id": "bbd4ea55",
   "metadata": {},
   "outputs": [
    {
     "data": {
      "text/plain": [
       "4.287599999999999"
      ]
     },
     "execution_count": 27,
     "metadata": {},
     "output_type": "execute_result"
    }
   ],
   "source": [
    "# 16. Dan\n",
    "y = 0.0718 + 4.2158 * 1\n",
    "y"
   ]
  },
  {
   "cell_type": "code",
   "execution_count": 28,
   "id": "597803c6",
   "metadata": {},
   "outputs": [
    {
     "data": {
      "text/plain": [
       "50.6614"
      ]
     },
     "execution_count": 28,
     "metadata": {},
     "output_type": "execute_result"
    }
   ],
   "source": [
    "# 17. Chris\n",
    "y = 0.0718 + 4.2158 * 12\n",
    "y"
   ]
  },
  {
   "cell_type": "code",
   "execution_count": 29,
   "id": "93bd2b61",
   "metadata": {},
   "outputs": [
    {
     "data": {
      "text/plain": [
       "50.6614"
      ]
     },
     "execution_count": 29,
     "metadata": {},
     "output_type": "execute_result"
    }
   ],
   "source": [
    "# 18. Okon\n",
    "y = 0.0718 + 4.2158 * 12\n",
    "y"
   ]
  },
  {
   "cell_type": "code",
   "execution_count": 30,
   "id": "ba6f3d79",
   "metadata": {},
   "outputs": [
    {
     "data": {
      "text/plain": [
       "71.7404"
      ]
     },
     "execution_count": 30,
     "metadata": {},
     "output_type": "execute_result"
    }
   ],
   "source": [
    "# 19. Jenny\n",
    "y = 0.0718 + 4.2158 * 17\n",
    "y"
   ]
  },
  {
   "cell_type": "code",
   "execution_count": 31,
   "id": "2c5124b7",
   "metadata": {},
   "outputs": [
    {
     "name": "stderr",
     "output_type": "stream",
     "text": [
      "C:\\Users\\dell\\AppData\\Local\\Temp\\ipykernel_14544\\3556464820.py:1: FutureWarning: Series.__getitem__ treating keys as positions is deprecated. In a future version, integer keys will always be treated as labels (consistent with DataFrame behavior). To access a value by position, use `ser.iloc[pos]`\n",
      "  y_predict = result.params[0] + result.params[1] * x1\n"
     ]
    },
    {
     "data": {
      "text/plain": [
       "0     29.582164\n",
       "1     84.387108\n",
       "2     63.308283\n",
       "3     46.445224\n",
       "4     33.797929\n",
       "5     29.582164\n",
       "6     80.171343\n",
       "7     46.445224\n",
       "8     46.445224\n",
       "9     16.934870\n",
       "10    33.797929\n",
       "11    12.719105\n",
       "12     8.503340\n",
       "13    50.660989\n",
       "14    25.366399\n",
       "15     8.503340\n",
       "16     4.287575\n",
       "17    50.660989\n",
       "18    50.660989\n",
       "19    71.739813\n",
       "Name: Study Hours, dtype: float64"
      ]
     },
     "execution_count": 31,
     "metadata": {},
     "output_type": "execute_result"
    }
   ],
   "source": [
    "y_predict = result.params[0] + result.params[1] * x1\n",
    "y_predict"
   ]
  },
  {
   "cell_type": "code",
   "execution_count": 32,
   "id": "a70acd60",
   "metadata": {},
   "outputs": [
    {
     "data": {
      "text/html": [
       "<div>\n",
       "<style scoped>\n",
       "    .dataframe tbody tr th:only-of-type {\n",
       "        vertical-align: middle;\n",
       "    }\n",
       "\n",
       "    .dataframe tbody tr th {\n",
       "        vertical-align: top;\n",
       "    }\n",
       "\n",
       "    .dataframe thead th {\n",
       "        text-align: right;\n",
       "    }\n",
       "</style>\n",
       "<table border=\"1\" class=\"dataframe\">\n",
       "  <thead>\n",
       "    <tr style=\"text-align: right;\">\n",
       "      <th></th>\n",
       "      <th>Unnamed: 0</th>\n",
       "      <th>Student</th>\n",
       "      <th>Study Hours</th>\n",
       "      <th>Score</th>\n",
       "      <th>predictions</th>\n",
       "    </tr>\n",
       "  </thead>\n",
       "  <tbody>\n",
       "    <tr>\n",
       "      <th>0</th>\n",
       "      <td>0</td>\n",
       "      <td>Alice</td>\n",
       "      <td>7</td>\n",
       "      <td>27</td>\n",
       "      <td>29.582164</td>\n",
       "    </tr>\n",
       "    <tr>\n",
       "      <th>1</th>\n",
       "      <td>1</td>\n",
       "      <td>Isaac</td>\n",
       "      <td>20</td>\n",
       "      <td>85</td>\n",
       "      <td>84.387108</td>\n",
       "    </tr>\n",
       "    <tr>\n",
       "      <th>2</th>\n",
       "      <td>2</td>\n",
       "      <td>Charlie</td>\n",
       "      <td>15</td>\n",
       "      <td>64</td>\n",
       "      <td>63.308283</td>\n",
       "    </tr>\n",
       "    <tr>\n",
       "      <th>3</th>\n",
       "      <td>3</td>\n",
       "      <td>David</td>\n",
       "      <td>11</td>\n",
       "      <td>48</td>\n",
       "      <td>46.445224</td>\n",
       "    </tr>\n",
       "    <tr>\n",
       "      <th>4</th>\n",
       "      <td>4</td>\n",
       "      <td>Samuel</td>\n",
       "      <td>8</td>\n",
       "      <td>40</td>\n",
       "      <td>33.797929</td>\n",
       "    </tr>\n",
       "    <tr>\n",
       "      <th>5</th>\n",
       "      <td>5</td>\n",
       "      <td>Mendy</td>\n",
       "      <td>7</td>\n",
       "      <td>29</td>\n",
       "      <td>29.582164</td>\n",
       "    </tr>\n",
       "    <tr>\n",
       "      <th>6</th>\n",
       "      <td>6</td>\n",
       "      <td>Grace</td>\n",
       "      <td>19</td>\n",
       "      <td>85</td>\n",
       "      <td>80.171343</td>\n",
       "    </tr>\n",
       "    <tr>\n",
       "      <th>7</th>\n",
       "      <td>7</td>\n",
       "      <td>Hannah</td>\n",
       "      <td>11</td>\n",
       "      <td>36</td>\n",
       "      <td>46.445224</td>\n",
       "    </tr>\n",
       "    <tr>\n",
       "      <th>8</th>\n",
       "      <td>8</td>\n",
       "      <td>Ivy</td>\n",
       "      <td>11</td>\n",
       "      <td>38</td>\n",
       "      <td>46.445224</td>\n",
       "    </tr>\n",
       "    <tr>\n",
       "      <th>9</th>\n",
       "      <td>9</td>\n",
       "      <td>Jack</td>\n",
       "      <td>4</td>\n",
       "      <td>24</td>\n",
       "      <td>16.934870</td>\n",
       "    </tr>\n",
       "    <tr>\n",
       "      <th>10</th>\n",
       "      <td>10</td>\n",
       "      <td>Uche</td>\n",
       "      <td>8</td>\n",
       "      <td>28</td>\n",
       "      <td>33.797929</td>\n",
       "    </tr>\n",
       "    <tr>\n",
       "      <th>11</th>\n",
       "      <td>11</td>\n",
       "      <td>Bob</td>\n",
       "      <td>3</td>\n",
       "      <td>22</td>\n",
       "      <td>12.719105</td>\n",
       "    </tr>\n",
       "    <tr>\n",
       "      <th>12</th>\n",
       "      <td>12</td>\n",
       "      <td>Ada</td>\n",
       "      <td>2</td>\n",
       "      <td>6</td>\n",
       "      <td>8.503340</td>\n",
       "    </tr>\n",
       "    <tr>\n",
       "      <th>13</th>\n",
       "      <td>13</td>\n",
       "      <td>Eze</td>\n",
       "      <td>12</td>\n",
       "      <td>44</td>\n",
       "      <td>50.660989</td>\n",
       "    </tr>\n",
       "    <tr>\n",
       "      <th>14</th>\n",
       "      <td>14</td>\n",
       "      <td>Eva</td>\n",
       "      <td>6</td>\n",
       "      <td>31</td>\n",
       "      <td>25.366399</td>\n",
       "    </tr>\n",
       "    <tr>\n",
       "      <th>15</th>\n",
       "      <td>15</td>\n",
       "      <td>Frank</td>\n",
       "      <td>2</td>\n",
       "      <td>1</td>\n",
       "      <td>8.503340</td>\n",
       "    </tr>\n",
       "    <tr>\n",
       "      <th>16</th>\n",
       "      <td>16</td>\n",
       "      <td>Dan</td>\n",
       "      <td>1</td>\n",
       "      <td>7</td>\n",
       "      <td>4.287575</td>\n",
       "    </tr>\n",
       "    <tr>\n",
       "      <th>17</th>\n",
       "      <td>17</td>\n",
       "      <td>Chris</td>\n",
       "      <td>12</td>\n",
       "      <td>55</td>\n",
       "      <td>50.660989</td>\n",
       "    </tr>\n",
       "    <tr>\n",
       "      <th>18</th>\n",
       "      <td>18</td>\n",
       "      <td>Okon</td>\n",
       "      <td>12</td>\n",
       "      <td>46</td>\n",
       "      <td>50.660989</td>\n",
       "    </tr>\n",
       "    <tr>\n",
       "      <th>19</th>\n",
       "      <td>19</td>\n",
       "      <td>Jenny</td>\n",
       "      <td>17</td>\n",
       "      <td>78</td>\n",
       "      <td>71.739813</td>\n",
       "    </tr>\n",
       "  </tbody>\n",
       "</table>\n",
       "</div>"
      ],
      "text/plain": [
       "    Unnamed: 0  Student  Study Hours  Score  predictions\n",
       "0            0    Alice            7     27    29.582164\n",
       "1            1    Isaac           20     85    84.387108\n",
       "2            2  Charlie           15     64    63.308283\n",
       "3            3    David           11     48    46.445224\n",
       "4            4   Samuel            8     40    33.797929\n",
       "5            5    Mendy            7     29    29.582164\n",
       "6            6    Grace           19     85    80.171343\n",
       "7            7   Hannah           11     36    46.445224\n",
       "8            8      Ivy           11     38    46.445224\n",
       "9            9     Jack            4     24    16.934870\n",
       "10          10     Uche            8     28    33.797929\n",
       "11          11      Bob            3     22    12.719105\n",
       "12          12      Ada            2      6     8.503340\n",
       "13          13      Eze           12     44    50.660989\n",
       "14          14      Eva            6     31    25.366399\n",
       "15          15    Frank            2      1     8.503340\n",
       "16          16      Dan            1      7     4.287575\n",
       "17          17    Chris           12     55    50.660989\n",
       "18          18     Okon           12     46    50.660989\n",
       "19          19    Jenny           17     78    71.739813"
      ]
     },
     "execution_count": 32,
     "metadata": {},
     "output_type": "execute_result"
    }
   ],
   "source": [
    "data[\"predictions\"] = y_predict\n",
    "data"
   ]
  },
  {
   "cell_type": "code",
   "execution_count": 33,
   "id": "f3d56d3e",
   "metadata": {},
   "outputs": [
    {
     "data": {
      "text/html": [
       "<div>\n",
       "<style scoped>\n",
       "    .dataframe tbody tr th:only-of-type {\n",
       "        vertical-align: middle;\n",
       "    }\n",
       "\n",
       "    .dataframe tbody tr th {\n",
       "        vertical-align: top;\n",
       "    }\n",
       "\n",
       "    .dataframe thead th {\n",
       "        text-align: right;\n",
       "    }\n",
       "</style>\n",
       "<table border=\"1\" class=\"dataframe\">\n",
       "  <thead>\n",
       "    <tr style=\"text-align: right;\">\n",
       "      <th></th>\n",
       "      <th>Unnamed: 0</th>\n",
       "      <th>Student</th>\n",
       "      <th>Study Hours</th>\n",
       "      <th>Score</th>\n",
       "      <th>predictions</th>\n",
       "      <th>error</th>\n",
       "    </tr>\n",
       "  </thead>\n",
       "  <tbody>\n",
       "    <tr>\n",
       "      <th>0</th>\n",
       "      <td>0</td>\n",
       "      <td>Alice</td>\n",
       "      <td>7</td>\n",
       "      <td>27</td>\n",
       "      <td>29.582164</td>\n",
       "      <td>-2.582164</td>\n",
       "    </tr>\n",
       "    <tr>\n",
       "      <th>1</th>\n",
       "      <td>1</td>\n",
       "      <td>Isaac</td>\n",
       "      <td>20</td>\n",
       "      <td>85</td>\n",
       "      <td>84.387108</td>\n",
       "      <td>0.612892</td>\n",
       "    </tr>\n",
       "    <tr>\n",
       "      <th>2</th>\n",
       "      <td>2</td>\n",
       "      <td>Charlie</td>\n",
       "      <td>15</td>\n",
       "      <td>64</td>\n",
       "      <td>63.308283</td>\n",
       "      <td>0.691717</td>\n",
       "    </tr>\n",
       "    <tr>\n",
       "      <th>3</th>\n",
       "      <td>3</td>\n",
       "      <td>David</td>\n",
       "      <td>11</td>\n",
       "      <td>48</td>\n",
       "      <td>46.445224</td>\n",
       "      <td>1.554776</td>\n",
       "    </tr>\n",
       "    <tr>\n",
       "      <th>4</th>\n",
       "      <td>4</td>\n",
       "      <td>Samuel</td>\n",
       "      <td>8</td>\n",
       "      <td>40</td>\n",
       "      <td>33.797929</td>\n",
       "      <td>6.202071</td>\n",
       "    </tr>\n",
       "    <tr>\n",
       "      <th>5</th>\n",
       "      <td>5</td>\n",
       "      <td>Mendy</td>\n",
       "      <td>7</td>\n",
       "      <td>29</td>\n",
       "      <td>29.582164</td>\n",
       "      <td>-0.582164</td>\n",
       "    </tr>\n",
       "    <tr>\n",
       "      <th>6</th>\n",
       "      <td>6</td>\n",
       "      <td>Grace</td>\n",
       "      <td>19</td>\n",
       "      <td>85</td>\n",
       "      <td>80.171343</td>\n",
       "      <td>4.828657</td>\n",
       "    </tr>\n",
       "    <tr>\n",
       "      <th>7</th>\n",
       "      <td>7</td>\n",
       "      <td>Hannah</td>\n",
       "      <td>11</td>\n",
       "      <td>36</td>\n",
       "      <td>46.445224</td>\n",
       "      <td>-10.445224</td>\n",
       "    </tr>\n",
       "    <tr>\n",
       "      <th>8</th>\n",
       "      <td>8</td>\n",
       "      <td>Ivy</td>\n",
       "      <td>11</td>\n",
       "      <td>38</td>\n",
       "      <td>46.445224</td>\n",
       "      <td>-8.445224</td>\n",
       "    </tr>\n",
       "    <tr>\n",
       "      <th>9</th>\n",
       "      <td>9</td>\n",
       "      <td>Jack</td>\n",
       "      <td>4</td>\n",
       "      <td>24</td>\n",
       "      <td>16.934870</td>\n",
       "      <td>7.065130</td>\n",
       "    </tr>\n",
       "    <tr>\n",
       "      <th>10</th>\n",
       "      <td>10</td>\n",
       "      <td>Uche</td>\n",
       "      <td>8</td>\n",
       "      <td>28</td>\n",
       "      <td>33.797929</td>\n",
       "      <td>-5.797929</td>\n",
       "    </tr>\n",
       "    <tr>\n",
       "      <th>11</th>\n",
       "      <td>11</td>\n",
       "      <td>Bob</td>\n",
       "      <td>3</td>\n",
       "      <td>22</td>\n",
       "      <td>12.719105</td>\n",
       "      <td>9.280895</td>\n",
       "    </tr>\n",
       "    <tr>\n",
       "      <th>12</th>\n",
       "      <td>12</td>\n",
       "      <td>Ada</td>\n",
       "      <td>2</td>\n",
       "      <td>6</td>\n",
       "      <td>8.503340</td>\n",
       "      <td>-2.503340</td>\n",
       "    </tr>\n",
       "    <tr>\n",
       "      <th>13</th>\n",
       "      <td>13</td>\n",
       "      <td>Eze</td>\n",
       "      <td>12</td>\n",
       "      <td>44</td>\n",
       "      <td>50.660989</td>\n",
       "      <td>-6.660989</td>\n",
       "    </tr>\n",
       "    <tr>\n",
       "      <th>14</th>\n",
       "      <td>14</td>\n",
       "      <td>Eva</td>\n",
       "      <td>6</td>\n",
       "      <td>31</td>\n",
       "      <td>25.366399</td>\n",
       "      <td>5.633601</td>\n",
       "    </tr>\n",
       "    <tr>\n",
       "      <th>15</th>\n",
       "      <td>15</td>\n",
       "      <td>Frank</td>\n",
       "      <td>2</td>\n",
       "      <td>1</td>\n",
       "      <td>8.503340</td>\n",
       "      <td>-7.503340</td>\n",
       "    </tr>\n",
       "    <tr>\n",
       "      <th>16</th>\n",
       "      <td>16</td>\n",
       "      <td>Dan</td>\n",
       "      <td>1</td>\n",
       "      <td>7</td>\n",
       "      <td>4.287575</td>\n",
       "      <td>2.712425</td>\n",
       "    </tr>\n",
       "    <tr>\n",
       "      <th>17</th>\n",
       "      <td>17</td>\n",
       "      <td>Chris</td>\n",
       "      <td>12</td>\n",
       "      <td>55</td>\n",
       "      <td>50.660989</td>\n",
       "      <td>4.339011</td>\n",
       "    </tr>\n",
       "    <tr>\n",
       "      <th>18</th>\n",
       "      <td>18</td>\n",
       "      <td>Okon</td>\n",
       "      <td>12</td>\n",
       "      <td>46</td>\n",
       "      <td>50.660989</td>\n",
       "      <td>-4.660989</td>\n",
       "    </tr>\n",
       "    <tr>\n",
       "      <th>19</th>\n",
       "      <td>19</td>\n",
       "      <td>Jenny</td>\n",
       "      <td>17</td>\n",
       "      <td>78</td>\n",
       "      <td>71.739813</td>\n",
       "      <td>6.260187</td>\n",
       "    </tr>\n",
       "  </tbody>\n",
       "</table>\n",
       "</div>"
      ],
      "text/plain": [
       "    Unnamed: 0  Student  Study Hours  Score  predictions      error\n",
       "0            0    Alice            7     27    29.582164  -2.582164\n",
       "1            1    Isaac           20     85    84.387108   0.612892\n",
       "2            2  Charlie           15     64    63.308283   0.691717\n",
       "3            3    David           11     48    46.445224   1.554776\n",
       "4            4   Samuel            8     40    33.797929   6.202071\n",
       "5            5    Mendy            7     29    29.582164  -0.582164\n",
       "6            6    Grace           19     85    80.171343   4.828657\n",
       "7            7   Hannah           11     36    46.445224 -10.445224\n",
       "8            8      Ivy           11     38    46.445224  -8.445224\n",
       "9            9     Jack            4     24    16.934870   7.065130\n",
       "10          10     Uche            8     28    33.797929  -5.797929\n",
       "11          11      Bob            3     22    12.719105   9.280895\n",
       "12          12      Ada            2      6     8.503340  -2.503340\n",
       "13          13      Eze           12     44    50.660989  -6.660989\n",
       "14          14      Eva            6     31    25.366399   5.633601\n",
       "15          15    Frank            2      1     8.503340  -7.503340\n",
       "16          16      Dan            1      7     4.287575   2.712425\n",
       "17          17    Chris           12     55    50.660989   4.339011\n",
       "18          18     Okon           12     46    50.660989  -4.660989\n",
       "19          19    Jenny           17     78    71.739813   6.260187"
      ]
     },
     "execution_count": 33,
     "metadata": {},
     "output_type": "execute_result"
    }
   ],
   "source": [
    "data[\"error\"] = data[\"Score\"] - data[\"predictions\"]\n",
    "data"
   ]
  },
  {
   "cell_type": "code",
   "execution_count": 38,
   "id": "1633da50",
   "metadata": {},
   "outputs": [
    {
     "data": {
      "text/plain": [
       "((20,), (20,))"
      ]
     },
     "execution_count": 38,
     "metadata": {},
     "output_type": "execute_result"
    }
   ],
   "source": [
    "x1.shape, y.shape"
   ]
  },
  {
   "cell_type": "code",
   "execution_count": 39,
   "id": "f727532c",
   "metadata": {},
   "outputs": [
    {
     "data": {
      "text/plain": [
       "<matplotlib.legend.Legend at 0x24761f581d0>"
      ]
     },
     "execution_count": 39,
     "metadata": {},
     "output_type": "execute_result"
    },
    {
     "data": {
      "image/png": "[encoded data removed]",
      "text/plain": [
       "<Figure size 640x480 with 1 Axes>"
      ]
     },
     "metadata": {},
     "output_type": "display_data"
    }
   ],
   "source": [
    "plt.scatter(x1, y, label=\"Data Point\")\n",
    "plt.plot(x1, y_predict, color=\"pink\")\n",
    "\n",
    "plt.title(\"Student Scores\")\n",
    "plt.xlabel(\"Study Hours\")\n",
    "plt.ylabel(\"Score\")\n",
    "plt.legend()"
   ]
  },
  {
   "cell_type": "code",
   "execution_count": null,
   "id": "b1dcaaa9",
   "metadata": {},
   "outputs": [],
   "source": []
  }
 ],
 "metadata": {
  "kernelspec": {
   "display_name": "Python 3 (ipykernel)",
   "language": "python",
   "name": "python3"
  },
  "language_info": {
   "codemirror_mode": {
    "name": "ipython",
    "version": 3
   },
   "file_extension": ".py",
   "mimetype": "text/x-python",
   "name": "python",
   "nbconvert_exporter": "python",
   "pygments_lexer": "ipython3",
   "version": "3.11.7"
  }
 },
 "nbformat": 4,
 "nbformat_minor": 5
}
